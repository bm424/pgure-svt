{
 "cells": [
  {
   "cell_type": "markdown",
   "metadata": {},
   "source": [
    "# PGURE-SVT\n",
    "## HyperSpy Demonstration\n",
    "#### Written by Ben Martineau\n",
    "\n",
    "[HyperSpy](http://hyperspy.org/) is an open-source python library that makes signal handling and processing straightforward in python, with a friendly API. While you can use `pguresvt.pguresvt.SVT` for denoising of Numpy arrays, `pguresvt.hspysvt.HSPYSVT` can denoise HyperSpy arrays, if you prefer.\n",
    "\n",
    "This notebook uses the same example as the [PGURE-SVT Documentation](http://tjof2.github.io/pgure-svt/) but denoises, and returns, a HyperSpy `Signal` directly."
   ]
  },
  {
   "cell_type": "code",
   "execution_count": 1,
   "metadata": {
    "collapsed": false
   },
   "outputs": [],
   "source": [
    "# Configures the plotting backend\n",
    "%matplotlib qt"
   ]
  },
  {
   "cell_type": "code",
   "execution_count": null,
   "metadata": {
    "collapsed": false,
    "scrolled": true
   },
   "outputs": [],
   "source": [
    "# Import the hyperspy API\n",
    "import hyperspy.api as hs"
   ]
  },
  {
   "cell_type": "code",
   "execution_count": 3,
   "metadata": {
    "collapsed": false
   },
   "outputs": [],
   "source": [
    "# Import the hyperspy wrapper for PGURE-SVT\n",
    "from pguresvt import hspysvt"
   ]
  },
  {
   "cell_type": "code",
   "execution_count": 4,
   "metadata": {
    "collapsed": false
   },
   "outputs": [],
   "source": [
    "# Load example dataset\n",
    "movie = hs.load(\"./test/examplesequence.tif\")"
   ]
  },
  {
   "cell_type": "code",
   "execution_count": 5,
   "metadata": {
    "collapsed": true
   },
   "outputs": [],
   "source": [
    "# Truncate to 15 frames, and plot the result\n",
    "movie = movie.inav[:15]\n",
    "movie.plot()"
   ]
  },
  {
   "cell_type": "code",
   "execution_count": 7,
   "metadata": {
    "collapsed": false
   },
   "outputs": [],
   "source": [
    "# Denoise the HyperSpy signal directly.\n",
    "svt = hspysvt.HSPYSVT(threshold=0.5)\n",
    "denoised_movie = svt.denoise(movie)"
   ]
  },
  {
   "cell_type": "code",
   "execution_count": 8,
   "metadata": {
    "collapsed": false
   },
   "outputs": [],
   "source": [
    "# Plot denoised data\n",
    "denoised_movie.plot()"
   ]
  },
  {
   "cell_type": "code",
   "execution_count": null,
   "metadata": {
    "collapsed": true
   },
   "outputs": [],
   "source": []
  }
 ],
 "metadata": {
  "kernelspec": {
   "display_name": "Python 3",
   "language": "python",
   "name": "python3"
  },
  "language_info": {
   "codemirror_mode": {
    "name": "ipython",
    "version": 3
   },
   "file_extension": ".py",
   "mimetype": "text/x-python",
   "name": "python",
   "nbconvert_exporter": "python",
   "pygments_lexer": "ipython3",
   "version": "3.4.3"
  }
 },
 "nbformat": 4,
 "nbformat_minor": 0
}
